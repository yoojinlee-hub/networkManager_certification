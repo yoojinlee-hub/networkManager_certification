{
  "nbformat": 4,
  "nbformat_minor": 0,
  "metadata": {
    "colab": {
      "name": "2020_Setting_네트워크 속성.ipynb",
      "provenance": [],
      "authorship_tag": "ABX9TyMJdNHr57gIUInhF8NLJKFu",
      "include_colab_link": true
    },
    "kernelspec": {
      "name": "python3",
      "display_name": "Python 3"
    },
    "language_info": {
      "name": "python"
    }
  },
  "cells": [
    {
      "cell_type": "markdown",
      "metadata": {
        "id": "view-in-github",
        "colab_type": "text"
      },
      "source": [
        "<a href=\"https://colab.research.google.com/github/yoojinlee-hub/networkManager_certification/blob/main/2020_Setting_%EB%84%A4%ED%8A%B8%EC%9B%8C%ED%81%AC_%EC%86%8D%EC%84%B1.ipynb\" target=\"_parent\"><img src=\"https://colab.research.google.com/assets/colab-badge.svg\" alt=\"Open In Colab\"/></a>"
      ]
    },
    {
      "cell_type": "markdown",
      "metadata": {
        "id": "XiKH3w_37v6l"
      },
      "source": [
        "네트워크를 관리하는 K사원은 C Class 주소의 네트워크를 가지고 하나의 서브넷 당 6개의 호스틀를 갖도록 네트워크를 구성하고자 한다. <제시문제>에 알맞은 네트워크 정보를 설정하시오\n",
        "1. IP: 192.168.100.59\n",
        "2. Subnet: 하나의 서브넷은 6개의 호스트를 갖는다\n",
        "3. Gateway: 192.168.100.62\n",
        "4. DNS: 192.168.100.25"
      ]
    },
    {
      "cell_type": "markdown",
      "metadata": {
        "id": "O3sWxZOl8R3N"
      },
      "source": [
        " ***서브넷 주소 구하기***<br>\n",
        "255.255.255.?(C 클래스)<br>\n",
        "6개 -> 2^3 (8) <br>\n",
        "1 1 1 0 0 0 0 0 <br>\n",
        "서브넷마스크 = 256-호스트 수= 256-8 = 248<br>\n",
        "255.255.255.248"
      ]
    },
    {
      "cell_type": "markdown",
      "metadata": {
        "id": "5LTHYFDw-NKe"
      },
      "source": [
        "\n",
        "\n",
        "---\n",
        "\n"
      ]
    }
  ]
}