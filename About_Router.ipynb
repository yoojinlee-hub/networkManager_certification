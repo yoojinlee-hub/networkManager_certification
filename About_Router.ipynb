{
  "nbformat": 4,
  "nbformat_minor": 0,
  "metadata": {
    "colab": {
      "name": "About Router.ipynb",
      "provenance": [],
      "authorship_tag": "ABX9TyMzHqKFHDmb4EitLa67n+sn",
      "include_colab_link": true
    },
    "kernelspec": {
      "name": "python3",
      "display_name": "Python 3"
    },
    "language_info": {
      "name": "python"
    }
  },
  "cells": [
    {
      "cell_type": "markdown",
      "metadata": {
        "id": "view-in-github",
        "colab_type": "text"
      },
      "source": [
        "<a href=\"https://colab.research.google.com/github/yoojinlee-hub/networkManager_certification/blob/main/About_Router.ipynb\" target=\"_parent\"><img src=\"https://colab.research.google.com/assets/colab-badge.svg\" alt=\"Open In Colab\"/></a>"
      ]
    },
    {
      "cell_type": "markdown",
      "metadata": {
        "id": "-ZmJ7RBz2G2o"
      },
      "source": [
        "**telnet 패스워드 설정**\n",
        "\n",
        "*   line vtr 0 4\n",
        "*   password ___\n",
        "\n",
        "\n",
        "\n",
        "\n"
      ]
    },
    {
      "cell_type": "markdown",
      "metadata": {
        "id": "p19CA-9A2T1v"
      },
      "source": [
        "**활성화**\n",
        "\n",
        "*   no shutdown\n",
        "\n",
        "\n"
      ]
    },
    {
      "cell_type": "markdown",
      "metadata": {
        "id": "q5JmFKmh2c3f"
      },
      "source": [
        "**로그인**\n",
        "\n",
        "\n",
        "*   login\n",
        "\n"
      ]
    },
    {
      "cell_type": "markdown",
      "metadata": {
        "id": "yKUUKl_s2hr_"
      },
      "source": [
        "**기본 게이트웨이 설정**\n",
        "\n",
        "\n",
        "*   ip default-gateway ___"
      ]
    },
    {
      "cell_type": "markdown",
      "metadata": {
        "id": "xm-ZMVMu2o2n"
      },
      "source": [
        "**DHCP 네트워크 ip설정, 이름 설정**\n",
        "\n",
        "\n",
        "*   ip dhcp pool 이름 *<이름부터 설정>*\n",
        "*   network ___ *<네트워크 아이피 설정>*\n",
        "\n",
        "\n"
      ]
    },
    {
      "cell_type": "markdown",
      "metadata": {
        "id": "Llp6LuC_261H"
      },
      "source": [
        "**주석설정**\n",
        "\n",
        "\n",
        "*   interface ~~~\n",
        "* description 주석"
      ]
    },
    {
      "cell_type": "markdown",
      "metadata": {
        "id": "l9UArJbl3Do_"
      },
      "source": [
        "**서브넷마스크 설정**\n",
        "\n",
        "\n",
        "*   interface ~~\n",
        "* ip add __"
      ]
    },
    {
      "cell_type": "markdown",
      "metadata": {
        "id": "TcwaWRO43LpH"
      },
      "source": [
        "**시리얼 활성화**\n",
        "\n",
        "\n",
        "*   interface 시리얼\n",
        "* no shutdown"
      ]
    },
    {
      "cell_type": "markdown",
      "metadata": {
        "id": "oVwD_mpb3TmX"
      },
      "source": [
        "**콘솔 패스워드**\n",
        "\n",
        "\n",
        "*   line console _\n",
        "* password __"
      ]
    },
    {
      "cell_type": "markdown",
      "metadata": {
        "id": "Q581JxhB3cEW"
      },
      "source": [
        "**telnet 자동 종료**\n",
        "\n",
        "\n",
        "*  line vty 0 4\n",
        "* exec-timeout 분 초"
      ]
    },
    {
      "cell_type": "markdown",
      "metadata": {
        "id": "JbZTNhrQ3l8_"
      },
      "source": [
        "**호스트 네임 설정**\n",
        "\n",
        "\n",
        "*  hostname __"
      ]
    },
    {
      "cell_type": "markdown",
      "metadata": {
        "id": "I_PzQLvj3vjP"
      },
      "source": [
        "**확인문제 <conf t 필요 없음>**\n",
        "\n",
        "\n",
        "*   인터페이스 정보 : show interface\n",
        "* 접속한 사용자 정보 : show user\n",
        "* 라우팅테이블 정보 : *show ip route*\n",
        "* 플래쉬 내용 : show flash\n",
        "* 프로세스 정보 : show process"
      ]
    }
  ]
}