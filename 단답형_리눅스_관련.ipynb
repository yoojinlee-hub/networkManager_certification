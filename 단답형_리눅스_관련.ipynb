{
  "nbformat": 4,
  "nbformat_minor": 0,
  "metadata": {
    "colab": {
      "name": "단답형_리눅스 관련.ipynb",
      "provenance": [],
      "authorship_tag": "ABX9TyP5a7Go8fPrI9kbs8Za+/LT",
      "include_colab_link": true
    },
    "kernelspec": {
      "name": "python3",
      "display_name": "Python 3"
    },
    "language_info": {
      "name": "python"
    }
  },
  "cells": [
    {
      "cell_type": "markdown",
      "metadata": {
        "id": "view-in-github",
        "colab_type": "text"
      },
      "source": [
        "<a href=\"https://colab.research.google.com/github/yoojinlee-hub/networkManager_certification/blob/main/%EB%8B%A8%EB%8B%B5%ED%98%95_%EB%A6%AC%EB%88%85%EC%8A%A4_%EA%B4%80%EB%A0%A8.ipynb\" target=\"_parent\"><img src=\"https://colab.research.google.com/assets/colab-badge.svg\" alt=\"Open In Colab\"/></a>"
      ]
    },
    {
      "cell_type": "markdown",
      "metadata": {
        "id": "osk7Rk6ZAUG-"
      },
      "source": [
        "***man***: 다른 기능을 알기 위해 사용하는 명령어"
      ]
    },
    {
      "cell_type": "markdown",
      "metadata": {
        "id": "IoDHApEOAbh0"
      },
      "source": [
        "***ifconfig***: 네트워크 인터페이스를 점검하고, 연결을 정하거나 해제하고, 적당한 주소를 할당할 따 사용. 윈도우명령 ipconfig와 유사"
      ]
    },
    {
      "cell_type": "markdown",
      "metadata": {
        "id": "XM5pkMHDApoM"
      },
      "source": [
        "***useradd***: 계정 생성"
      ]
    },
    {
      "cell_type": "markdown",
      "metadata": {
        "id": "-rXKDvhDA_1E"
      },
      "source": [
        "***du(disk usage)*** : 디스크 사용량 확인"
      ]
    },
    {
      "cell_type": "markdown",
      "metadata": {
        "id": "VblgNFezBF2V"
      },
      "source": [
        "***df(disk freeespace)***: 파일 시스템의 전체용량, 사용한 용량,  사옹가능한 용량, 사용률"
      ]
    },
    {
      "cell_type": "markdown",
      "metadata": {
        "id": "_6R4ji9yCEq1"
      },
      "source": [
        "***netstat***: 네트워크 연결 상태, 라우팅 테이블 정보 // ip나 컴퓨터 이름 확인"
      ]
    },
    {
      "cell_type": "markdown",
      "metadata": {
        "id": "hD3FwmyrCdNl"
      },
      "source": [
        "***nslookup***: 사이트의 ip어드레스"
      ]
    },
    {
      "cell_type": "markdown",
      "metadata": {
        "id": "z504pbDVCtJt"
      },
      "source": [
        "***traceroute*** : 리눅스에서 지정된 호스트에 도달할 때 까지 통과하는 경로정보와 경로에서의 지연시간을 추적하는 명령어를 입력하시오"
      ]
    },
    {
      "cell_type": "markdown",
      "metadata": {
        "id": "-4fL1iXMDAPV"
      },
      "source": [
        "***vi :set nu***: 문서의 라인마다 번호를 나타냄"
      ]
    },
    {
      "cell_type": "markdown",
      "metadata": {
        "id": "eJAUGj9CDHNF"
      },
      "source": [
        "***rpm:*** 패키지 설치 여부 확인 <br>\n",
        "-qa : 패키지 설치 확인 <br>\n",
        "***yum:*** 설치 진행(rpm의 패키지 의존성문제를 해결한 RPM 패키지 설치)"
      ]
    },
    {
      "cell_type": "markdown",
      "metadata": {
        "id": "K4bo_IIqBYza"
      },
      "source": [
        "\n",
        "\n",
        "---\n",
        "\n"
      ]
    },
    {
      "cell_type": "markdown",
      "metadata": {
        "id": "86kCW5WGBcoZ"
      },
      "source": [
        "***/etc/fstab ***: 리눅스 부팅시 자동으로 *마운트*되는 *파티션* 설정"
      ]
    },
    {
      "cell_type": "markdown",
      "metadata": {
        "id": "fqg0r2dHBRkB"
      },
      "source": [
        "***ntsysv***: 시스템이 부팅될 때 자동으로 실행되는 *서비스* 관리"
      ]
    },
    {
      "cell_type": "markdown",
      "metadata": {
        "id": "Zcwri5HqBtOu"
      },
      "source": [
        "\n",
        "\n",
        "---\n",
        "\n"
      ]
    },
    {
      "cell_type": "markdown",
      "metadata": {
        "id": "wp-jCjfKBt1F"
      },
      "source": [
        "***top***: 메모리 소비율과 CPU 점유율 실시간 모니터링"
      ]
    },
    {
      "cell_type": "markdown",
      "metadata": {
        "id": "KRdKzHmAB0Rd"
      },
      "source": [
        "***ps***: 현재 시스템에서 실행되는 *프로세스* 확인"
      ]
    },
    {
      "cell_type": "markdown",
      "metadata": {
        "id": "GnaCWTnpB5de"
      },
      "source": [
        "***last*** : 모든 계정들의 서버접속 정보"
      ]
    },
    {
      "cell_type": "markdown",
      "metadata": {
        "id": "hVYetfOLB_M0"
      },
      "source": [
        "***pwd***: 현재 위치 확인"
      ]
    },
    {
      "cell_type": "markdown",
      "metadata": {
        "id": "Phb24K2qPc-3"
      },
      "source": [
        "\n",
        "\n",
        "---\n",
        "\n"
      ]
    },
    {
      "cell_type": "markdown",
      "metadata": {
        "id": "hBAIXwr1PdhW"
      },
      "source": [
        "/etc/inittab default"
      ]
    },
    {
      "cell_type": "markdown",
      "metadata": {
        "id": "uOo5ZYPfPh3e"
      },
      "source": [
        "0. 시스템 종료\n",
        "1. 단일사용자모드(root계정만  사용)\n",
        "2. 네트워크에 연결되지 않은 상태로 부팅(제한적으로 다른사람의 로그인 허용)\n",
        "3. 멀티유저 모드\n",
        "4. 사용자 정의\n",
        "5. X-Windows모드(그래픽모드)\n",
        "6. 리부트"
      ]
    }
  ]
}