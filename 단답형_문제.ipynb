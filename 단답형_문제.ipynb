{
  "nbformat": 4,
  "nbformat_minor": 0,
  "metadata": {
    "colab": {
      "name": "단답형 문제.ipynb",
      "provenance": [],
      "authorship_tag": "ABX9TyM/nOtvr2UMg/VoJCxzI5YP",
      "include_colab_link": true
    },
    "kernelspec": {
      "name": "python3",
      "display_name": "Python 3"
    },
    "language_info": {
      "name": "python"
    }
  },
  "cells": [
    {
      "cell_type": "markdown",
      "metadata": {
        "id": "view-in-github",
        "colab_type": "text"
      },
      "source": [
        "<a href=\"https://colab.research.google.com/github/yoojinlee-hub/networkManager_certification/blob/main/%EB%8B%A8%EB%8B%B5%ED%98%95_%EB%AC%B8%EC%A0%9C.ipynb\" target=\"_parent\"><img src=\"https://colab.research.google.com/assets/colab-badge.svg\" alt=\"Open In Colab\"/></a>"
      ]
    },
    {
      "cell_type": "markdown",
      "metadata": {
        "id": "N4xH8g2kj8x1"
      },
      "source": [
        "제시문제와 같이 네트워크를 대표하는 네트워크ID(IP)를 구하시오 <br> **a.b.c.150/26**"
      ]
    },
    {
      "cell_type": "markdown",
      "metadata": {
        "id": "5lrDSG-CkES_"
      },
      "source": [
        "/26 -> 11111111.11111111.11111111.11000000 = 255.255.255.192 : 서브넷 마스크<br>\n",
        "256-192=64 // 반의 총 인원 수 구하기<br>\n",
        "a.b.c.0 ~ a.b.c.63 <br>\n",
        "a.b.c.64 ~ a.b.c.127<br>\n",
        "a.b.c.128  ~ a.b.c.191<br>\n",
        "a.b.c.192 ~ a.b.c.255"
      ]
    },
    {
      "cell_type": "markdown",
      "metadata": {
        "id": "rGrrI1oOkq45"
      },
      "source": [
        "앞에있는 a.b.c.150을 포함하는 반의 대표 : a.b.c.128"
      ]
    },
    {
      "cell_type": "markdown",
      "metadata": {
        "id": "IXxbtYVClB98"
      },
      "source": [
        "\n",
        "\n",
        "---\n",
        "\n"
      ]
    },
    {
      "cell_type": "markdown",
      "metadata": {
        "id": "5uwoKjk3lr2v"
      },
      "source": [
        "***웹 방화벽(WAF)***"
      ]
    },
    {
      "cell_type": "markdown",
      "metadata": {
        "id": "8Xl_AUFElOX1"
      },
      "source": [
        "외부에 공개된 *웹 서비스*로 HTTP(80), HTTPS(443) 프로토콜에 대한 보안 능력이 미흡하다. <br>\n",
        "IPS는 웹 보안에 대해서는 패킷 필터링 방식의 한계로 인해 검사 정확도 결여 및 SSL 통신에 대해 검사가 불가능하므로 웹 보안에 취약하다. <br>\n",
        "웹 어플리케이션의 취약점을 이용한 홈페이지 변조. 사용자 ID 도용. 관리자 권한 획득 및 중요정보 획득 가능성"
      ]
    },
    {
      "cell_type": "markdown",
      "metadata": {
        "id": "YaRoJnsVl2a9"
      },
      "source": [
        "\n",
        "\n",
        "---\n",
        "\n"
      ]
    },
    {
      "cell_type": "markdown",
      "metadata": {
        "id": "vFFeuGk9mHjF"
      },
      "source": [
        "***OSPF***"
      ]
    },
    {
      "cell_type": "markdown",
      "metadata": {
        "id": "aSh0BZ2Gl5O9"
      },
      "source": [
        "***최단 경로*** 우선 프로토콜은 인터넷 프로토콜 네트워크를 위한 링크 스테이트 라우팅 프로토콜이다. *링크 스테이트 라우팅 알고리즘*을 사용하며, 하나의 *자율 시스템(AS)*에서 동작하면서 내부 라우팅 프로토콜의 그룹에 도달한다."
      ]
    },
    {
      "cell_type": "markdown",
      "metadata": {
        "id": "560l0X3KmXns"
      },
      "source": [
        "\n",
        "\n",
        "---\n",
        "\n"
      ]
    },
    {
      "cell_type": "markdown",
      "metadata": {
        "id": "05Stv8ZjmZ5s"
      },
      "source": [
        "Linux의 /home/network/public_html/index.html 파일의 권한을 변경한 것이다. 빈칸 A,B에 들어갈 명령어는?\n",
        "<br><br>\n",
        "# pwd  <br>\n",
        "/home/network/public_html\n",
        "#ls-al\n",
        "-rwxr--r--46 2019 index.html\n",
        "# A B index.html\n",
        "#ls - al\n",
        "-rwxr-xr-x 446 2019 index.html"
      ]
    },
    {
      "cell_type": "markdown",
      "metadata": {
        "id": "46AQVEvOnCVV"
      },
      "source": [
        "답: ***chmod 755***"
      ]
    },
    {
      "cell_type": "markdown",
      "metadata": {
        "id": "cHipIHMEnLSc"
      },
      "source": [
        "\n",
        "\n",
        "---\n",
        "\n"
      ]
    }
  ]
}