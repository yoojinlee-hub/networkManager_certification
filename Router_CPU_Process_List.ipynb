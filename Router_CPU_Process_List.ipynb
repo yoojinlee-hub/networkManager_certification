{
  "nbformat": 4,
  "nbformat_minor": 0,
  "metadata": {
    "colab": {
      "name": "Router_CPU_Process_List.ipynb",
      "provenance": [],
      "authorship_tag": "ABX9TyNftY/yFs42WTWoJ00cQj+D",
      "include_colab_link": true
    },
    "kernelspec": {
      "name": "python3",
      "display_name": "Python 3"
    },
    "language_info": {
      "name": "python"
    }
  },
  "cells": [
    {
      "cell_type": "markdown",
      "metadata": {
        "id": "view-in-github",
        "colab_type": "text"
      },
      "source": [
        "<a href=\"https://colab.research.google.com/github/yoojinlee-hub/networkManager_certification/blob/main/Router_CPU_Process_List.ipynb\" target=\"_parent\"><img src=\"https://colab.research.google.com/assets/colab-badge.svg\" alt=\"Open In Colab\"/></a>"
      ]
    },
    {
      "cell_type": "markdown",
      "metadata": {
        "id": "x9UtCOm7jmyW"
      },
      "source": [
        "Router1의 CPU Process 리스트를 확인하시오"
      ]
    },
    {
      "cell_type": "markdown",
      "metadata": {
        "id": "dfGCzN-ujrE9"
      },
      "source": [
        "![화면 캡처 2021-09-19 095644.png](data:image/png;base64,iVBORw0KGgoAAAANSUhEUgAAArwAAAAtCAYAAABMH7iMAAAAAXNSR0IArs4c6QAAAARnQU1BAACxjwv8YQUAAAAJcEhZcwAADsMAAA7DAcdvqGQAAAoZSURBVHhe7d1faJX3Hcfxj7Vbt8F2MbOFtaUmuahClgV6EdIp9sI1yxGFwLxwQrBgkosGciEpHAyYKUQCK14E7IUeoSEQZDgIJOsRSy4UXaWwQpYFrIycdFiYLHEXY6usrN33+zy/kzznGJNzcqKY0/cLfn2e3/N7/uVpLj75+jvn2fbw4cOvBQAAAFSp58ISAAAAqEoEXgAAAFQ1Ai8AAACqGoEXAAAAVY3ACwAAgKpG4AUAAEBVI/ACAACgqhF4AQAAUNXKfvHEzLlDOno5dFxru8YHe9W8I/QBAACAZ0jZFd7mE5Maat2loeyk5j6e1PU26ejobBjdJEtZ9Zzb5HMum9Vw33lNzN4PfQAAAFSziqc01Bzcp86Fe6EXWGAd7jukxhZrHi6XwnbjFeLGlvOa8c7s+bBPNhqL+LbUe7p1+WQ85q0o/C5O9a+M2flnEuePAm001m+hNn8f4XqRJqVHelX/2ZUoVC+GreVY6/rxWL96+vL72H0U3B8AAACepooD78zUqObrXg49Z4HztNQ1EleA50YOS6dXAmdcIQ6dpl7b56w6Qzfi27Jva8+Rs/Hx3k40hUFjYTqjd1bG7Py50WwiuFqgte3jRz7VwMV57e7OaO6SlJ0qrOg2H+zVhWNSptxq7zrXrzn4bnRt1R2Lxq9fqtfAZlfAAQAAULINBl4Lk6m4wnn07n6dTQbS2Ruab3tNNaEr1WpvW07ZTcp8ix9Na+xMV6ieeuvSwOVp3XykirpLQ4O96miqjUJ0+qAti+3waq8F8otdGi4x9JZ2/V06cCx+JjVNq1TAAQAA8NRsMPCGObzZjIYWppV5igXMmp312nMqs1Jhjdq76tjIh+aWfD7vFak7o7QH4xJs6vUBAADwxFU2pWFHrTpGjknHE3Nkm/ap4doniSkG93XzWr1SiSKwlFPOK6JL9zXRd1Jj8cZCC/fic0Sh9JCG86E6Ov+Vonm75ZuZOq+eUZ96EarApdqk6wMAAODpqOhryTovTSptQdY/qPXGmXqNf9yrZh/wD62dfk9jt229tT2eWpCsgM5a2Dx+Vbe0S52n9ktnbF+fs5uYGjFzrt+u86mt+T7vFE5JSJ7fxvcc8WkVqXgahY31+IfefD3wiuyF/PEeoE/f0O7uw+UF3aQ1rh8/C7/vdnseh5Xr69KA71f08wEAAODpKDvwAgAAAFtJxd/SAAAAADzLCLwAAACoagReAAAAVDXm8OIZ9pW1L0Pz9Tz/O81/bb8f9QAAANZC4MUz5i/SF7+T/jst/e9PYdtj/PBhWAEAAHg8Ai82if8aJauw2635tm1R7/H8mL9buP2z9J8x6cvfx5vX8/wvpB9MhQ4AAMDjVfQ9vJHWdo0P9qp5q71pzL+vd/RlHVi4ofqR8P3BeQ++E1bKN/O+ouczflWF53wSnt9voe8PofMk/cvaA2tLFkwXLaP+w5YeUj+39b/Z8q+2vBPtuTafguAB999RryIEXgAAUKINVXgn+vqlwfh1uotT5/XG3X2b+1KFEEYvPMkXNfjLLz5rUMM1KT2SChuDCgKvm/iNVG/tqQbeCu95yyHwAgCAElX8LQ01B/epc+Fe6AX+JrK+Q2pssdZ3XhOJ1/B6hbixJbyK2EJnvE82Gov4Nn9T2uWT8Zi3c/n3Csf8bWbLY3b+wtf8zmo4GuvXxGz+PhKvPg5mPszpwE5pvu7lsKUM9ifCsAXaxnZrtvT14vNn3w/j1iaK/6QoOj45Plx8jC17wrbia6zGw7af0yvN+esPfx4Gg+Vr2Pb8fRSce437iyTHrQ3btZL7LP5xZSy6l7WOt6Wvr3X9R8YBAADKUHHgnZkaLQqN/upeqWtkUnMfWxs5LJ1eCZzNJyY11Bo6Tb22z1l1hm7Et2Xf1h5/Fa8f7y1Z6bUwndE7K2N2/txoVoth2E6gtG0fP/KpBi7Oa3d3RnOXLIBO3Q/j9zVhIdhfWzxwPATrZOAuwcyo/adbmrtqbdDWo1cMFxqzdt3Gr9u1B3z/hOj5WIiLjrelrJ9/Pmnbf88pqSM/9dWWF8K2UirGHXa+Truf7Kvh/NZSHxYG0rRtGz9i93VR9nxsH38+FlLz1ro/N2H96Lhw/t0LYcDZdTK2yI/58Tn7+Vf+/6z//Ep5vgAAAKXaYOC1sJiKK6xH7+7X2WQgnb2h+bbXVBO6Uq32tuWULSzSbtjiR9MaO9O1UuFt6dLA5WndLKjyul0aGuxVR1NtFKLTB20ZqVWHhfHxIzZ+qt2CpAXi4ikN62h+U5o/HiqQfqgFxuIwOv6WomdQ85IF0GQg/NyObYvH8vZaP5uvwr5o7a416/v5vTo7Y4H1wOvRaGnsD4qun4d14/f7wUehkzBkYbLD7k/W0vn917s/C7Qf1IXjAg/Z+YC+aNcZOxOeTWgDl6WbicC93vMr5fkCAACUaoOB18JidlJz2YyGFqaV2aQwW4qanfVxSM1XeKMWzycuTaLCe+aqbnl4LrPC6wHxQqhgegV3/mJhBbMiFhwbLCAvfmZB+ZSd28Juzvp71/uyg2dEzc64Gr1c4Q1tuWLt1nt+T/L5AgCAb5zKpjTs8GrpMel4Yo5s0z41XPskEVDu6+a1eqUKPn+WU84rsksePk9G//z/iIV78TmWZqN5uMP5UB2d/0rRvN1yxBXeodb2DVd4fQ5sfl5qjVdky2Fhzj8olwxwN62fSlRMU3XSSdu2+3XpgIVdr6gmK66lyCSmKJRVIV7v/iy4+j0l5xhPvG/PJH+9cPwj83YT1nt+FT1fAACAImUHXv/Q2cDteEpDHEKb1HUqp6PLHwxrUnrQAtfyh9auSP61ZdFYrKO7Xh/4lIjUb3Wn7W113n6v8INpO1LqrZvWG358alRqyyi9HJj9/A3Kng7nb+lXz7nEHF7/hgfbHlVww7SLnuX5u3mzuqMG1VvwbtiZn+pQhlbZ9Vf+yb2heyWQ+ofFBm5LR33uq/EPkY1Zv9G250XPx7ZHx/t+1k8+n5delW7Z0quiPp1A1i9Xl7Xo/NaybyYqrBYk/UNw/tVpA3bvPt6TCMduvfvrsP6dxM9/x+5veUqE8eOXn4+f3372ZIBe6/lF1hsHAAAowzfzxRPha896NarcsVWmQ2yVr/h6zNeS+bcapD2oVjO+lgwAAJSIN62tZgsHXq8oe4XZdV6y4JuYKrHlbXtFjb/8nq14W33Sts/pBgAASCLwrmaLV3irygtdlm9/bb+pP7OOv6kNAACgPATe1fzzlbDyjHu+xTLglXh9Swfeb9lvoldt/Wd4Qdr+U+nbe6z7K+vX+Q4AAAAbRuCtFg8S/8S/7bvS11+EzhOwfbf0nP1RsP1FW/7E2o9tvdaaLfWj0Cy4LvsqLPMqft8JAABAyQi8AAAAqGqU2gAAAFDVCLwAAACoagReAAAAVDUCLwAAAKoagRcAAABVjcALAACAqkbgBQAAQBWT/g/r5Ahk0gjMrwAAAABJRU5ErkJggg==)"
      ]
    },
    {
      "cell_type": "markdown",
      "metadata": {
        "id": "mU3ExXstjs70"
      },
      "source": [
        "CPU Process라는 명령어 x\n"
      ]
    }
  ]
}