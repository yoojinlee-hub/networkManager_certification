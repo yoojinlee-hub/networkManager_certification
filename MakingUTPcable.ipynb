{
  "nbformat": 4,
  "nbformat_minor": 0,
  "metadata": {
    "colab": {
      "name": "MakingUTPcable.ipynb",
      "provenance": [],
      "authorship_tag": "ABX9TyPumLhReHDsWsOX3FXPaD5Y",
      "include_colab_link": true
    },
    "kernelspec": {
      "name": "python3",
      "display_name": "Python 3"
    },
    "language_info": {
      "name": "python"
    }
  },
  "cells": [
    {
      "cell_type": "markdown",
      "metadata": {
        "id": "view-in-github",
        "colab_type": "text"
      },
      "source": [
        "<a href=\"https://colab.research.google.com/github/yoojinlee-hub/networkManager_certification/blob/main/MakingUTPcable.ipynb\" target=\"_parent\"><img src=\"https://colab.research.google.com/assets/colab-badge.svg\" alt=\"Open In Colab\"/></a>"
      ]
    },
    {
      "cell_type": "markdown",
      "metadata": {
        "id": "-PfJRw4x4JE-"
      },
      "source": [
        "**다이렉트케이블**: 주흰 주 초흰 파 파흰 초 갈흰 갈"
      ]
    }
  ]
}