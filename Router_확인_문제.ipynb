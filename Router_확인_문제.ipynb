{
  "nbformat": 4,
  "nbformat_minor": 0,
  "metadata": {
    "colab": {
      "name": "Router 확인 문제.ipynb",
      "provenance": [],
      "authorship_tag": "ABX9TyNmcGjhx2vhwotOCJyntZUl",
      "include_colab_link": true
    },
    "kernelspec": {
      "name": "python3",
      "display_name": "Python 3"
    },
    "language_info": {
      "name": "python"
    }
  },
  "cells": [
    {
      "cell_type": "markdown",
      "metadata": {
        "id": "view-in-github",
        "colab_type": "text"
      },
      "source": [
        "<a href=\"https://colab.research.google.com/github/yoojinlee-hub/networkManager_certification/blob/main/Router_%ED%99%95%EC%9D%B8_%EB%AC%B8%EC%A0%9C.ipynb\" target=\"_parent\"><img src=\"https://colab.research.google.com/assets/colab-badge.svg\" alt=\"Open In Colab\"/></a>"
      ]
    },
    {
      "cell_type": "markdown",
      "metadata": {
        "id": "cgH9N-6IB_rm"
      },
      "source": [
        "라우터2의 소프트웨어 버전과 IOS버전등을 확인하시오"
      ]
    },
    {
      "cell_type": "markdown",
      "metadata": {
        "id": "lEYlQXkcCZen"
      },
      "source": [
        "![화면 캡처 2021-09-26 115744.png](data:image/png;base64,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)"
      ]
    },
    {
      "cell_type": "markdown",
      "metadata": {
        "id": "_sxuGRZQCag-"
      },
      "source": [
        "\n",
        "\n",
        "---\n",
        "\n"
      ]
    }
  ]
}