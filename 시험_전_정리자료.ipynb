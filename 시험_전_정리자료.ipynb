{
  "nbformat": 4,
  "nbformat_minor": 0,
  "metadata": {
    "colab": {
      "name": "시험 전 정리자료.ipynb",
      "provenance": [],
      "authorship_tag": "ABX9TyPXk/hLH9aTUW88tt5XP2RB",
      "include_colab_link": true
    },
    "kernelspec": {
      "name": "python3",
      "display_name": "Python 3"
    },
    "language_info": {
      "name": "python"
    }
  },
  "cells": [
    {
      "cell_type": "markdown",
      "metadata": {
        "id": "view-in-github",
        "colab_type": "text"
      },
      "source": [
        "<a href=\"https://colab.research.google.com/github/yoojinlee-hub/networkManager_certification/blob/main/%EC%8B%9C%ED%97%98_%EC%A0%84_%EC%A0%95%EB%A6%AC%EC%9E%90%EB%A3%8C.ipynb\" target=\"_parent\"><img src=\"https://colab.research.google.com/assets/colab-badge.svg\" alt=\"Open In Colab\"/></a>"
      ]
    },
    {
      "cell_type": "markdown",
      "metadata": {
        "id": "7hTP6rblxbJF"
      },
      "source": [
        "DHCP Setting \n",
        "\n",
        "* 게이트웨이설정은 예,지금구성합니다 로 넘어가서 해야함\n",
        "\n",
        "* 범위 누르고 오른쪽 마우스 -> 활성화\n",
        "\n",
        "FTP 서버 셋팅\n",
        "\n",
        "* 엑세스 거부 혹은 승인 ip 주소 설정 : FTP IPv4 주소 < 맨 처음에 있는 설정>\n",
        "\n",
        "\n",
        "* 최대 연결 수 메시지 <FTP 메시지>\n",
        "\n",
        "* 만들어진 사이트 마우스 오른쪽 -> FTP 사이트 관리 -> 고급설정 : 채널 시간제한, 최대연결수 등 설정가능\n",
        "\n",
        "Router Setting\n",
        "\n",
        "* ip address 설정 : ip add\n",
        "\n",
        "* Router1의 CPU Process 리스트를 확인하시오 : show process\n",
        "\n",
        "* 디폴트 네트워크 : ip default-network [ip주소]\n",
        "\n",
        "* 디폴트 게이트웨이: ip default-gateway [ip주소]\n",
        "\n",
        "* OSPF 설정 <어려움> : https://github.com/yoojinlee-hub/networkManager_certification/blob/c4a10c437d0c675399aac75d48288339d3b0731d/Router_setting_OSPF.ipynb\n",
        "\n",
        "\n",
        "networkManager_certification/Router_setting_OSPF.ipynb at c4a10c437d0c675399aac75d48288339d3b0731d · yoojinlee-hub/networkManager_certification\n",
        "practice. Contribute to yoojinlee-hub/networkManager_certification development by creating an account on GitHub.\n",
        "\n",
        "github.com\n",
        "\n",
        "* access list 설정(패킷이동방향 양방향): interface로 어딘가 들어가고 -> ip access-group 1 in , ip access-group 1 out\n",
        "\n",
        "https://github.com/yoojinlee-hub/networkManager_certification/blob/main/Router_setting_access_list.ipynb\n",
        "\n",
        "\n",
        "networkManager_certification/Router_setting_access_list.ipynb at main · yoojinlee-hub/networkManager_certification\n",
        "practice. Contribute to yoojinlee-hub/networkManager_certification development by creating an account on GitHub.\n",
        "\n",
        "github.com\n",
        "\n",
        "서비스 관리자 - 설명 또는 이름을 정렬해서 문제에 나와있는 내용과 같은 것 찾기\n",
        "\n",
        "Window 계정 추가\n",
        "\n",
        "* 소속그룹 설정: 추가된 곳 오른쪽 마우스 클릭 -> 소속그룹 추가\n",
        "\n",
        "* 로컬경로 : 추가된 곳 오른쪽 마우스 클릭 -> 프로필\n",
        "\n",
        "스케줄러 추가\n",
        "\n",
        "\n",
        "원격 데스크톱 서비스\n",
        "\n",
        "\n",
        "​"
      ]
    },
    {
      "cell_type": "markdown",
      "metadata": {
        "id": "nESLkvohxcy2"
      },
      "source": [
        "\n",
        "\n",
        "---\n",
        "\n"
      ]
    }
  ]
}